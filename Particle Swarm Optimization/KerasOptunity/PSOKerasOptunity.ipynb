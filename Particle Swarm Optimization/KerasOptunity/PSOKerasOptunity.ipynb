{
  "nbformat": 4,
  "nbformat_minor": 0,
  "metadata": {
    "colab": {
      "name": "PSOKerasOptunity.ipynb",
      "provenance": []
    },
    "kernelspec": {
      "name": "python3",
      "display_name": "Python 3"
    },
    "language_info": {
      "name": "python"
    }
  },
  "cells": [
    {
      "cell_type": "markdown",
      "metadata": {
        "id": "L0v5GGy7p44P"
      },
      "source": [
        "Load Library"
      ]
    },
    {
      "cell_type": "code",
      "metadata": {
        "id": "xw6vzUVypeYg"
      },
      "source": [
        "import numpy as np\n",
        "import pandas as pd\n",
        "import seaborn as sns\n",
        "import matplotlib.pyplot as plt\n",
        "\n",
        "from sklearn import datasets\n",
        "from sklearn.model_selection import cross_val_score\n",
        "\n",
        "from keras.models import Sequential, Model\n",
        "from keras.layers import Dense, Input\n",
        "from sklearn.model_selection import GridSearchCV\n",
        "from keras.wrappers.scikit_learn import KerasClassifier\n",
        "from keras.callbacks import EarlyStopping"
      ],
      "execution_count": null,
      "outputs": []
    },
    {
      "cell_type": "markdown",
      "metadata": {
        "id": "scG982YvqDWT"
      },
      "source": [
        "Load datasets"
      ]
    },
    {
      "cell_type": "code",
      "metadata": {
        "id": "M32cLzdnp8Y9"
      },
      "source": [
        "data = datasets.load_digits()\n",
        "X = data.data\n",
        "y = data.target"
      ],
      "execution_count": null,
      "outputs": []
    },
    {
      "cell_type": "markdown",
      "metadata": {
        "id": "K9unbWiwqcMk"
      },
      "source": [
        "### Neural Network Baseline"
      ]
    },
    {
      "cell_type": "code",
      "metadata": {
        "id": "9Vy1mIdKqILu"
      },
      "source": [
        "def create_model(optimizer='sgd', neurons=32, batch_size=32, epochs=20, activation='relu', patience=3, loss='categorical_crossentropy'):\n",
        "  model = Sequential()\n",
        "  early_stopping = EarlyStopping(monitor='loss', patience=patience)\n",
        "\n",
        "  model.add(Dense(neurons, input_shape=(X.shape[1],), activation=activation))\n",
        "  model.add(Dense(neurons, activation=activation))\n",
        "\n",
        "  model.add(Dense(10, activation='softmax'))\n",
        "  model.compile(optimizer=optimizer, loss=loss)\n",
        "\n",
        "  history = model.fit(X, pd.get_dummies(y).values, batch_size=batch_size, epochs=epochs, callbacks=[early_stopping], verbose=0)\n",
        "  return model"
      ],
      "execution_count": null,
      "outputs": []
    },
    {
      "cell_type": "code",
      "metadata": {
        "colab": {
          "base_uri": "https://localhost:8080/"
        },
        "id": "D4-tH06DrgSX",
        "outputId": "f69632dc-be8d-4635-aa60-2c85c524f021"
      },
      "source": [
        "model = KerasClassifier(build_fn=create_model, verbose=0)\n",
        "scores = cross_val_score(model, X, y, cv=3,scoring='accuracy')\n",
        "print(f'Accuracy: {scores.mean()}')"
      ],
      "execution_count": null,
      "outputs": [
        {
          "output_type": "stream",
          "text": [
            "/usr/local/lib/python3.7/dist-packages/keras/engine/sequential.py:450: UserWarning: `model.predict_classes()` is deprecated and will be removed after 2021-01-01. Please use instead:* `np.argmax(model.predict(x), axis=-1)`,   if your model does multi-class classification   (e.g. if it uses a `softmax` last-layer activation).* `(model.predict(x) > 0.5).astype(\"int32\")`,   if your model does binary classification   (e.g. if it uses a `sigmoid` last-layer activation).\n",
            "  warnings.warn('`model.predict_classes()` is deprecated and '\n"
          ],
          "name": "stderr"
        },
        {
          "output_type": "stream",
          "text": [
            "Accuracy: 0.9877573734001114\n"
          ],
          "name": "stdout"
        }
      ]
    },
    {
      "cell_type": "markdown",
      "metadata": {
        "id": "FM214dI5tQwO"
      },
      "source": [
        "### Neural Network Optimization (Particle Swarm Optimization)"
      ]
    },
    {
      "cell_type": "code",
      "metadata": {
        "colab": {
          "base_uri": "https://localhost:8080/"
        },
        "id": "lAbyYeG1tcbR",
        "outputId": "81973bd9-3d1c-44e1-8eb7-3f5dfa322c30"
      },
      "source": [
        "!pip install optunity"
      ],
      "execution_count": null,
      "outputs": [
        {
          "output_type": "stream",
          "text": [
            "Collecting optunity\n",
            "\u001b[?25l  Downloading https://files.pythonhosted.org/packages/32/4d/d49876a49e105b56755eb5ba06a4848ee8010f7ff9e0f11a13aefed12063/Optunity-1.1.1.tar.gz (4.6MB)\n",
            "\u001b[K     |████████████████████████████████| 4.6MB 4.2MB/s \n",
            "\u001b[?25hBuilding wheels for collected packages: optunity\n",
            "  Building wheel for optunity (setup.py) ... \u001b[?25l\u001b[?25hdone\n",
            "  Created wheel for optunity: filename=Optunity-1.1.1-cp37-none-any.whl size=72033 sha256=5d180692b282d93e333221c802cc14885eb48e85b4536ab5e8cfa728e524b10e\n",
            "  Stored in directory: /root/.cache/pip/wheels/c9/e2/80/d3794524ae0042e147e035e132ec5fac09b8794b4acd94f046\n",
            "Successfully built optunity\n",
            "Installing collected packages: optunity\n",
            "Successfully installed optunity-1.1.1\n"
          ],
          "name": "stdout"
        }
      ]
    },
    {
      "cell_type": "code",
      "metadata": {
        "id": "Ocu7eogjr5vy"
      },
      "source": [
        "import optunity\n",
        "import optunity.metrics"
      ],
      "execution_count": null,
      "outputs": []
    },
    {
      "cell_type": "code",
      "metadata": {
        "id": "N2GjZTi4tZHR"
      },
      "source": [
        "data = X\n",
        "labels = y.tolist()"
      ],
      "execution_count": null,
      "outputs": []
    },
    {
      "cell_type": "markdown",
      "metadata": {
        "id": "tkO5_CDitnmM"
      },
      "source": [
        "Search hyperparameter"
      ]
    },
    {
      "cell_type": "code",
      "metadata": {
        "id": "gpZ3TSq9tlV9"
      },
      "source": [
        "search = {\n",
        "    'optimzer': [0, 3],\n",
        "    'activation': [0, 1],\n",
        "    'batch_size': [0, 2],\n",
        "    'epochs': [20, 50],\n",
        "    'neurons': [32, 64],\n",
        "    'patience': [5, 10],\n",
        "}"
      ],
      "execution_count": null,
      "outputs": []
    },
    {
      "cell_type": "code",
      "metadata": {
        "id": "w3cocwk2uBtY"
      },
      "source": [
        "@optunity.cross_validated(x=data, y=labels, num_folds=3)\n",
        "def performance(x_train, y_train, x_test, y_test, optimzer=None, activation=None, batch_size=None, neurons=None, epochs=None, patience=None):\n",
        "  if optimzer == 0:\n",
        "    op = 'adam'\n",
        "  elif optimzer == 1:\n",
        "    op = 'sgd'\n",
        "  else:\n",
        "    op = 'rmsprop'\n",
        "\n",
        "  if activation == 0:\n",
        "    act = 'relu'\n",
        "  else:\n",
        "    act = 'tanh'\n",
        "\n",
        "  if batch_size < 1:\n",
        "    ba = 16\n",
        "  else:\n",
        "    ba = 32\n",
        "\n",
        "  model = create_model(optimizer=op, activation=act, batch_size=ba, neurons=int(neurons), epochs=int(epochs), patience=int(patience))\n",
        "  clf = KerasClassifier(build_fn=ANN, verbose=0)\n",
        "  scores = np.mean(cross_val_score(clf, X, y, cv=3, scoring='accuracy'))\n",
        "\n",
        "  return scores"
      ],
      "execution_count": null,
      "outputs": []
    },
    {
      "cell_type": "code",
      "metadata": {
        "colab": {
          "base_uri": "https://localhost:8080/"
        },
        "id": "tGGHWq9bvo64",
        "outputId": "a040ddea-aeca-4053-923a-96a19f798921"
      },
      "source": [
        "optimal_configuration, info, _ = optunity.maximize(performance, solver_name='particle swarm', num_evals=20, **search)\n",
        "print(optimal_configuration)\n",
        "print(f'MSE: {str(info.optimum)}')"
      ],
      "execution_count": null,
      "outputs": [
        {
          "output_type": "stream",
          "text": [
            "/usr/local/lib/python3.7/dist-packages/keras/engine/sequential.py:450: UserWarning: `model.predict_classes()` is deprecated and will be removed after 2021-01-01. Please use instead:* `np.argmax(model.predict(x), axis=-1)`,   if your model does multi-class classification   (e.g. if it uses a `softmax` last-layer activation).* `(model.predict(x) > 0.5).astype(\"int32\")`,   if your model does binary classification   (e.g. if it uses a `sigmoid` last-layer activation).\n",
            "  warnings.warn('`model.predict_classes()` is deprecated and '\n"
          ],
          "name": "stderr"
        },
        {
          "output_type": "stream",
          "text": [
            "{'optimzer': 1.8779296875, 'activation': 0.8779296875, 'batch_size': 29.265625, 'epochs': 38.427734375, 'neurons': 51.71875, 'patience': 7.2021484375}\n",
            "MSE: 0.989983305509182\n"
          ],
          "name": "stdout"
        }
      ]
    },
    {
      "cell_type": "code",
      "metadata": {
        "id": "Ri3g-Pj8xOQK"
      },
      "source": [
        ""
      ],
      "execution_count": null,
      "outputs": []
    }
  ]
}